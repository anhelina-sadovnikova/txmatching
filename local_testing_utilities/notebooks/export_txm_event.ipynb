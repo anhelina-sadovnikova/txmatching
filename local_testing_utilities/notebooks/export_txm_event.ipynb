{
 "cells": [
  {
   "cell_type": "code",
   "execution_count": null,
   "metadata": {},
   "outputs": [],
   "source": [
    "import pandas as pd\n",
    "import os"
   ]
  },
  {
   "cell_type": "code",
   "execution_count": null,
   "metadata": {},
   "outputs": [],
   "source": [
    "path = \"generated_data\"\n",
    "txm_event_name = \"TEST-BEL-PRIVATE-2022-02\""
   ]
  },
  {
   "cell_type": "code",
   "execution_count": null,
   "metadata": {},
   "outputs": [],
   "source": [
    "dff = df.rename(columns = {\"FamilyID\": \"RecipientID\", \"PatientTyping\": \"RecipientTyping\"})"
   ]
  },
  {
   "cell_type": "code",
   "execution_count": null,
   "metadata": {},
   "outputs": [],
   "source": [
    "dff.iloc[0,7]"
   ]
  },
  {
   "cell_type": "code",
   "execution_count": null,
   "metadata": {
    "pycharm": {
     "name": "#%%\n"
    }
   },
   "outputs": [],
   "source": [
    "donors = [\n",
    "    {\n",
    "        'medical_id': row.DonorID,\n",
    "        'blood_group': row.DonorBloodType,\n",
    "        'hla_typing': row.DonorTyping.split(\",\"),\n",
    "        'donor_type': \"DONOR\",\n",
    "\n",
    "        'related_recipient_medical_id': row.RecipientID\n",
    "    }\n",
    "    for _, row in dff.iterrows()\n",
    "]\n",
    "\n",
    "acg_for_zero = [\"A\",\"B\", \"O\"]\n",
    "acg_for_other = [\"A\",\"B\", \"O\", \"AB\"]\n",
    "recipients = [\n",
    "    {\n",
    "        'medical_id': row.RecipientID,\n",
    "        'blood_group': row.BloodType,\n",
    "        'hla_typing': row.RecipientTyping.split(\",\"),\n",
    "        'year_of_birth': int(row.DOB.split(\".\")[-1]),\n",
    "        'sex': row.Gender if not pd.isna(row.Gender) else None,\n",
    "        'acceptable_blood_groups': acg_for_zero if row.BloodType == \"O\" else acg_for_other,\n",
    "        \"hla_antibodies\": [\n",
    "            {\n",
    "                \"mfi\": antibody[1],\n",
    "                \"name\": antibody[0],\n",
    "                \"cutoff\": 2000\n",
    "            }\n",
    "            for antibody in row.RecipientAntibodies\n",
    "        ]\n",
    "    }\n",
    "    for _, row in dff.iterrows()\n",
    "]\n",
    "\n",
    "\n",
    "\n",
    "\n",
    "input_json = {\n",
    "    \"country\": \"AUT\",\n",
    "    \"txm_event_name\": txm_event_name,\n",
    "    \"donors\": donors,\n",
    "    \"recipients\": recipients\n",
    "}"
   ]
  },
  {
   "cell_type": "code",
   "execution_count": null,
   "metadata": {
    "pycharm": {
     "name": "#%%\n"
    }
   },
   "outputs": [],
   "source": [
    "import json\n",
    "with open(os.path.join(path, \"wien_export.json\"), 'w') as f:\n",
    "\n",
    "    json.dump(input_json, f)"
   ]
  }
 ],
 "metadata": {
  "kernelspec": {
   "display_name": "Python 3",
   "language": "python",
   "name": "python3"
  },
  "language_info": {
   "codemirror_mode": {
    "name": "ipython",
    "version": 3
   },
   "file_extension": ".py",
   "mimetype": "text/x-python",
   "name": "python",
   "nbconvert_exporter": "python",
   "pygments_lexer": "ipython3",
   "version": "3.8.5"
  }
 },
 "nbformat": 4,
 "nbformat_minor": 4
}
